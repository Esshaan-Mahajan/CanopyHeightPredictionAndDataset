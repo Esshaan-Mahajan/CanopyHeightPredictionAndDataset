{
  "nbformat": 4,
  "nbformat_minor": 0,
  "metadata": {
    "colab": {
      "provenance": []
    },
    "kernelspec": {
      "name": "python3",
      "display_name": "Python 3"
    },
    "language_info": {
      "name": "python"
    }
  },
  "cells": [
    {
      "cell_type": "code",
      "source": [
        "!wget https://share.phys.ethz.ch/~pf/nlangdata/ETH_GlobalCanopyHeight_10m_2020_version1/3deg_cogs/ETH_GlobalCanopyHeight_10m_2020_N27E075_Map.tif"
      ],
      "metadata": {
        "colab": {
          "base_uri": "https://localhost:8080/"
        },
        "id": "-rr2w1r9FESm",
        "outputId": "a28f4488-494d-48e9-bf21-e497047396fe"
      },
      "execution_count": null,
      "outputs": [
        {
          "output_type": "stream",
          "name": "stdout",
          "text": [
            "--2022-05-04 17:18:15--  https://share.phys.ethz.ch/~pf/nlangdata/ETH_GlobalCanopyHeight_10m_2020_version1/3deg_cogs/ETH_GlobalCanopyHeight_10m_2020_N27E075_Map.tif\n",
            "Resolving share.phys.ethz.ch (share.phys.ethz.ch)... 129.132.80.27, 2001:67c:10ec:3dc4::39\n",
            "Connecting to share.phys.ethz.ch (share.phys.ethz.ch)|129.132.80.27|:443... connected.\n",
            "HTTP request sent, awaiting response... 200 OK\n",
            "Length: 154908224 (148M) [image/tiff]\n",
            "Saving to: ‘ETH_GlobalCanopyHeight_10m_2020_N27E075_Map.tif’\n",
            "\n",
            "ETH_GlobalCanopyHei 100%[===================>] 147.73M  23.2MB/s    in 7.3s    \n",
            "\n",
            "2022-05-04 17:18:23 (20.1 MB/s) - ‘ETH_GlobalCanopyHeight_10m_2020_N27E075_Map.tif’ saved [154908224/154908224]\n",
            "\n"
          ]
        }
      ]
    },
    {
      "cell_type": "code",
      "execution_count": null,
      "metadata": {
        "id": "8WOzPdkHENiA"
      },
      "outputs": [],
      "source": [
        "from osgeo import  gdal"
      ]
    },
    {
      "cell_type": "code",
      "source": [
        "print(\"aa\")"
      ],
      "metadata": {
        "id": "z7Rd1LEur6Dh"
      },
      "execution_count": null,
      "outputs": []
    },
    {
      "cell_type": "code",
      "source": [
        "raster = gdal.Open(r'ETH_GlobalCanopyHeight_10m_2020_N27E075_Map.tif')"
      ],
      "metadata": {
        "id": "VvdSkHrsEUmH"
      },
      "execution_count": null,
      "outputs": []
    },
    {
      "cell_type": "code",
      "source": [
        "raster"
      ],
      "metadata": {
        "colab": {
          "base_uri": "https://localhost:8080/"
        },
        "id": "x6gFEyDkFWjW",
        "outputId": "5a74a772-f38c-4187-9f90-21a3b1de760f"
      },
      "execution_count": null,
      "outputs": [
        {
          "output_type": "execute_result",
          "data": {
            "text/plain": [
              "<osgeo.gdal.Dataset; proxy of <Swig Object of type 'GDALDatasetShadow *' at 0x7fb00ec5c0c0> >"
            ]
          },
          "metadata": {},
          "execution_count": 5
        }
      ]
    },
    {
      "cell_type": "code",
      "source": [
        "# Projection\n",
        "raster.GetProjection()\n"
      ],
      "metadata": {
        "colab": {
          "base_uri": "https://localhost:8080/",
          "height": 52
        },
        "id": "EyOYKm8vFcgw",
        "outputId": "bbb81390-8761-4af7-cdd4-198b65b47033"
      },
      "execution_count": null,
      "outputs": [
        {
          "output_type": "execute_result",
          "data": {
            "text/plain": [
              "'GEOGCS[\"WGS 84\",DATUM[\"WGS_1984\",SPHEROID[\"WGS 84\",6378137,298.257223563,AUTHORITY[\"EPSG\",\"7030\"]],AUTHORITY[\"EPSG\",\"6326\"]],PRIMEM[\"Greenwich\",0],UNIT[\"degree\",0.0174532925199433],AUTHORITY[\"EPSG\",\"4326\"]]'"
            ],
            "application/vnd.google.colaboratory.intrinsic+json": {
              "type": "string"
            }
          },
          "metadata": {},
          "execution_count": 12
        }
      ]
    },
    {
      "cell_type": "code",
      "source": [
        "# Dimensions\n",
        "print(raster.RasterXSize)\n",
        "print(raster.RasterYSize)\n"
      ],
      "metadata": {
        "colab": {
          "base_uri": "https://localhost:8080/"
        },
        "id": "rATVGbjsFe5l",
        "outputId": "633a4cf7-d658-4d84-897f-20d99c5f0739"
      },
      "execution_count": null,
      "outputs": [
        {
          "output_type": "stream",
          "name": "stdout",
          "text": [
            "36000\n",
            "36000\n"
          ]
        }
      ]
    },
    {
      "cell_type": "code",
      "source": [
        "\n",
        "# Number of bands\n",
        "raster.RasterCount"
      ],
      "metadata": {
        "colab": {
          "base_uri": "https://localhost:8080/"
        },
        "id": "zVf5DBp2Fe17",
        "outputId": "9b653b54-2b96-4d84-fed0-036f1b83072c"
      },
      "execution_count": null,
      "outputs": [
        {
          "output_type": "execute_result",
          "data": {
            "text/plain": [
              "1"
            ]
          },
          "metadata": {},
          "execution_count": 10
        }
      ]
    },
    {
      "cell_type": "code",
      "source": [
        "# Metadata for the raster dataset\n",
        "raster.GetMetadata()"
      ],
      "metadata": {
        "colab": {
          "base_uri": "https://localhost:8080/"
        },
        "id": "cK1uzRgeFezp",
        "outputId": "c20b5466-cdbe-4d0c-fe8e-968d159da7d7"
      },
      "execution_count": null,
      "outputs": [
        {
          "output_type": "execute_result",
          "data": {
            "text/plain": [
              "{'AREA_OR_POINT': 'Area'}"
            ]
          },
          "metadata": {},
          "execution_count": 11
        }
      ]
    },
    {
      "cell_type": "code",
      "source": [
        "band = raster.GetRasterBand(1)\n",
        "print (\"[ NO DATA VALUE ] = \", band.GetNoDataValue()) # none\n",
        "print (\"[ MIN ] = \", band.GetMinimum())\n",
        "print (\"[ MAX ] = \", band.GetMaximum())"
      ],
      "metadata": {
        "colab": {
          "base_uri": "https://localhost:8080/"
        },
        "id": "bFU8yCU-K1iU",
        "outputId": "582623fa-5426-4aa9-9800-87578bc549ed"
      },
      "execution_count": null,
      "outputs": [
        {
          "output_type": "stream",
          "name": "stdout",
          "text": [
            "[ NO DATA VALUE ] =  255.0\n",
            "[ MIN ] =  None\n",
            "[ MAX ] =  None\n"
          ]
        }
      ]
    },
    {
      "cell_type": "code",
      "source": [
        "band.ReadAsAnArray()"
      ],
      "metadata": {
        "id": "lLoxmFvUtTlk"
      },
      "execution_count": null,
      "outputs": []
    },
    {
      "cell_type": "code",
      "source": [
        "!gdal_translate ETH_GlobalCanopyHeight_10m_2020_N27E075_Map.tif out.tif -co TILED=YES -co COPY_SRC_OVERVIEWS=YES -co COMPRESS=LZW"
      ],
      "metadata": {
        "colab": {
          "base_uri": "https://localhost:8080/"
        },
        "id": "_RdWb_6zFew0",
        "outputId": "25a3f93e-ce6d-489e-fe33-39a308c638bd"
      },
      "execution_count": null,
      "outputs": [
        {
          "output_type": "stream",
          "name": "stdout",
          "text": [
            "Input file size is 36000, 36000\n",
            "0...10...20...30...40...50...60...70...80...90...100 - done.\n"
          ]
        }
      ]
    },
    {
      "cell_type": "code",
      "source": [
        "new = gdal.Open('out.tif')"
      ],
      "metadata": {
        "id": "Ra6PKnAOI1-3"
      },
      "execution_count": null,
      "outputs": []
    },
    {
      "cell_type": "code",
      "source": [
        "new.GetMetadata()"
      ],
      "metadata": {
        "colab": {
          "base_uri": "https://localhost:8080/"
        },
        "id": "T60t9fo0J5QC",
        "outputId": "55e08045-53f1-49bb-e5bd-89a69c510116"
      },
      "execution_count": null,
      "outputs": [
        {
          "output_type": "execute_result",
          "data": {
            "text/plain": [
              "{'AREA_OR_POINT': 'Area'}"
            ]
          },
          "metadata": {},
          "execution_count": 23
        }
      ]
    },
    {
      "cell_type": "code",
      "source": [
        "newGetMetadataItem("
      ],
      "metadata": {
        "colab": {
          "base_uri": "https://localhost:8080/",
          "height": 166
        },
        "id": "EIR3QOykP2mS",
        "outputId": "c22000bd-9e74-45cc-be4a-5bdc14d78710"
      },
      "execution_count": null,
      "outputs": [
        {
          "output_type": "error",
          "ename": "NameError",
          "evalue": "ignored",
          "traceback": [
            "\u001b[0;31m---------------------------------------------------------------------------\u001b[0m",
            "\u001b[0;31mNameError\u001b[0m                                 Traceback (most recent call last)",
            "\u001b[0;32m<ipython-input-28-56680e865553>\u001b[0m in \u001b[0;36m<module>\u001b[0;34m()\u001b[0m\n\u001b[0;32m----> 1\u001b[0;31m \u001b[0mnew\u001b[0m\u001b[0;34m.\u001b[0m\u001b[0mGetMetadataItem\u001b[0m\u001b[0;34m(\u001b[0m\u001b[0mTIFF\u001b[0m\u001b[0;34m)\u001b[0m\u001b[0;34m\u001b[0m\u001b[0;34m\u001b[0m\u001b[0m\n\u001b[0m",
            "\u001b[0;31mNameError\u001b[0m: name 'TIFF' is not defined"
          ]
        }
      ]
    },
    {
      "cell_type": "code",
      "source": [],
      "metadata": {
        "id": "5iiCWIaVP2i2"
      },
      "execution_count": null,
      "outputs": []
    },
    {
      "cell_type": "code",
      "source": [
        "import ee"
      ],
      "metadata": {
        "id": "M1xP6rZJ9GAf"
      },
      "execution_count": null,
      "outputs": []
    },
    {
      "cell_type": "code",
      "source": [
        "# Trigger the authentication flow.\n",
        "ee.Authenticate()\n",
        "\n",
        "# Initialize the library.\n",
        "ee.Initialize()"
      ],
      "metadata": {
        "colab": {
          "base_uri": "https://localhost:8080/"
        },
        "id": "ReDuF3mu9IrE",
        "outputId": "e44190ac-fda8-4532-cce5-370258b76dd7"
      },
      "execution_count": null,
      "outputs": [
        {
          "output_type": "stream",
          "name": "stdout",
          "text": [
            "To authorize access needed by Earth Engine, open the following URL in a web browser and follow the instructions. If the web browser does not start automatically, please manually browse the URL below.\n",
            "\n",
            "    https://code.earthengine.google.com/client-auth?scopes=https%3A//www.googleapis.com/auth/earthengine%20https%3A//www.googleapis.com/auth/devstorage.full_control&request_id=uRTt5nJ6_cUhjv16Dm5ivqmwcZCtyqfeswlcSeIk4w4&tc=ibvGnSE25ykBptlBusqB1Hc-Vy2OaKcNVzIowxey2BI&cc=FlZdU06jtNNW9GKZoR3OpiCx3yhjobWGTC4cmcRDYjk\n",
            "\n",
            "The authorization workflow will generate a code, which you should paste in the box below. \n",
            "Enter verification code: 4/1AX4XfWiz2KZ2qMq_q3E_l_bfBxzz2stmn5ifWZwjWxJmeHUKIuS7FSqeSpc\n",
            "\n",
            "Successfully saved authorization token.\n"
          ]
        }
      ]
    },
    {
      "cell_type": "code",
      "source": [
        "# Print the elevation of Mount Everest.\n",
        "dem = ee.Image('USGS/SRTMGL1_003')\n",
        "xy = ee.Geometry.Point([86.9250, 27.9881])\n",
        "elev = dem.sample(xy, 30).first().get('elevation').getInfo()\n",
        "print('Mount Everest elevation (m):', elev)\n"
      ],
      "metadata": {
        "colab": {
          "base_uri": "https://localhost:8080/"
        },
        "id": "YByeKbyW97r1",
        "outputId": "fc6ad9d9-d294-4a48-d617-e463aec65712"
      },
      "execution_count": null,
      "outputs": [
        {
          "output_type": "stream",
          "name": "stdout",
          "text": [
            "Mount Everest elevation (m): 8729\n"
          ]
        }
      ]
    },
    {
      "cell_type": "code",
      "source": [
        "# NormalizedDifference example.\n",
        "\n",
        "# // Compute Normalized Difference Vegetation Index over MOD09GA product.\n",
        "# // NDVI = (NIR - RED) / (NIR + RED), where\n",
        "# // RED is sur_refl_b01, 620-670nm\n",
        "# // NIR is sur_refl_b02, 841-876nm\n",
        "\n",
        "# // Load a MODIS image.\n",
        "img = ee.Image('MODIS/006/MOD09GA/2012_03_09');\n",
        "# Use the normalizedDifference(A, B) to compute (A - B) / (A + B)\n",
        "ndvi = img.normalizedDifference(['sur_refl_b02', 'sur_refl_b01']);\n",
        "\n",
        "# // Make a palette: a list of hex strings.\n",
        "palette = ['FFFFFF', 'CE7E45', 'DF923D', 'F1B555', 'FCD163', '99B718',\n",
        "               '74A901', '66A000', '529400', '3E8601', '207401', '056201',\n",
        "               '004C00', '023B01', '012E01', '011D01', '011301'];\n",
        "import folium\n",
        "# // Center the map\n",
        "\n"
      ],
      "metadata": {
        "id": "P1Nt2JHe-L2t"
      },
      "execution_count": null,
      "outputs": []
    },
    {
      "cell_type": "code",
      "source": [],
      "metadata": {
        "colab": {
          "base_uri": "https://localhost:8080/"
        },
        "id": "AKMKT86oD8xK",
        "outputId": "0c5fb57e-8c44-4c83-bd2c-872908c23baa"
      },
      "execution_count": null,
      "outputs": [
        {
          "output_type": "stream",
          "name": "stdout",
          "text": [
            "ee.Image({\n",
            "  \"functionInvocationValue\": {\n",
            "    \"functionName\": \"Image.load\",\n",
            "    \"arguments\": {\n",
            "      \"id\": {\n",
            "        \"constantValue\": -1\n",
            "      }\n",
            "    }\n",
            "  }\n",
            "})\n"
          ]
        }
      ]
    },
    {
      "cell_type": "code",
      "source": [
        "x = ee.FeatureCollection(ndvi)\n"
      ],
      "metadata": {
        "id": "fSy33OqyD1us"
      },
      "execution_count": null,
      "outputs": []
    },
    {
      "cell_type": "code",
      "source": [],
      "metadata": {
        "colab": {
          "base_uri": "https://localhost:8080/",
          "height": 166
        },
        "id": "2AMTLNliROk1",
        "outputId": "d7c9378d-7c97-4afe-8f5d-937cc3634243"
      },
      "execution_count": null,
      "outputs": [
        {
          "output_type": "error",
          "ename": "AttributeError",
          "evalue": "ignored",
          "traceback": [
            "\u001b[0;31m---------------------------------------------------------------------------\u001b[0m",
            "\u001b[0;31mAttributeError\u001b[0m                            Traceback (most recent call last)",
            "\u001b[0;32m<ipython-input-46-5f545f4e7fbe>\u001b[0m in \u001b[0;36m<module>\u001b[0;34m()\u001b[0m\n\u001b[0;32m----> 1\u001b[0;31m \u001b[0mx\u001b[0m\u001b[0;34m.\u001b[0m\u001b[0mgetPropertyNames\u001b[0m\u001b[0;34m(\u001b[0m\u001b[0;34m)\u001b[0m\u001b[0;34m\u001b[0m\u001b[0;34m\u001b[0m\u001b[0m\n\u001b[0m",
            "\u001b[0;31mAttributeError\u001b[0m: 'FeatureCollection' object has no attribute 'getPropertyNames'"
          ]
        }
      ]
    },
    {
      "cell_type": "code",
      "source": [
        "print(ndvi)"
      ],
      "metadata": {
        "colab": {
          "base_uri": "https://localhost:8080/"
        },
        "id": "2nqq8GqZDnMN",
        "outputId": "d03ef863-3f9c-4d7a-8088-47a27dccebfa"
      },
      "execution_count": null,
      "outputs": [
        {
          "output_type": "stream",
          "name": "stdout",
          "text": [
            "ee.Image({\n",
            "  \"functionInvocationValue\": {\n",
            "    \"functionName\": \"Image.normalizedDifference\",\n",
            "    \"arguments\": {\n",
            "      \"bandNames\": {\n",
            "        \"constantValue\": [\n",
            "          \"sur_refl_b02\",\n",
            "          \"sur_refl_b01\"\n",
            "        ]\n",
            "      },\n",
            "      \"input\": {\n",
            "        \"functionInvocationValue\": {\n",
            "          \"functionName\": \"Image.load\",\n",
            "          \"arguments\": {\n",
            "            \"id\": {\n",
            "              \"constantValue\": \"MODIS/006/MOD09GA/2012_03_09\"\n",
            "            }\n",
            "          }\n",
            "        }\n",
            "      }\n",
            "    }\n",
            "  }\n",
            "})\n"
          ]
        }
      ]
    },
    {
      "cell_type": "code",
      "source": [
        "# Import the Folium library.\n",
        "import folium\n",
        "\n",
        "# Define a method for displaying Earth Engine image tiles to folium map.\n",
        "def add_ee_layer(self, ee_image_object, vis_params, name):\n",
        "  map_id_dict = ee.Image(ee_image_object).getMapId(vis_params)\n",
        "  folium.raster_layers.TileLayer(\n",
        "    tiles = map_id_dict['tile_fetcher'].url_format,\n",
        "    attr = 'Map Data &copy; <a href=\"https://earthengine.google.com/\">Google Earth Engine</a>',\n",
        "    name = name,\n",
        "    overlay = True,\n",
        "    control = True\n",
        "  ).add_to(self)\n",
        "\n",
        "# Add EE drawing method to folium.\n",
        "folium.Map.add_ee_layer = add_ee_layer\n",
        "\n",
        "# Set visualization parameters.\n",
        "vis_params = {\n",
        "  'min': 0,\n",
        "  'max': 1,\n",
        "\n",
        "   'palette' : ['FFFFFF', 'CE7E45', 'DF923D', 'F1B555', 'FCD163', '99B718',\n",
        "               '74A901', '66A000', '529400', '3E8601', '207401', '056201',\n",
        "               '004C00', '023B01', '012E01', '011D01', '011301']\n",
        "}\n",
        "\n",
        "\n",
        "\n",
        "# Create a folium map object.\n",
        "my_map = folium.Map(location=[20, 0], zoom_start=3)\n",
        "\n",
        "my_map.add_ee_layer(img.select(['sur_refl_b01', 'sur_refl_b04', 'sur_refl_b03']),'' ,'MODIS bands 1/4/3')\n",
        "my_map.add_ee_layer(ndvi, vis_params, 'NDVI')\n",
        "# Add the elevation model to the map object.\n",
        "#my_map.add_ee_layer(dem.updateMask(dem.gt(0)), vis_params, 'DEM')\n",
        "\n",
        "# Add a layer control panel to the map.\n",
        "my_map.add_child(folium.LayerControl())\n",
        "\n",
        "# Display the map.\n",
        "display(my_map)"
      ],
      "metadata": {
        "id": "dDlP7wnkJ4Ia"
      },
      "execution_count": null,
      "outputs": []
    },
    {
      "cell_type": "code",
      "source": [
        "dataset = ee.ImageCollection('IDAHO_EPSCOR/TERRACLIMATE').filter(ee.Filter.date('2017-07-01', '2017-08-01'))#.filterBounds(ee.Geometry.Point(-90.70, 34.71))\n",
        "maximumTemperature = dataset.select('tmmx')"
      ],
      "metadata": {
        "id": "QGZdxCD8W4ji"
      },
      "execution_count": null,
      "outputs": []
    },
    {
      "cell_type": "code",
      "source": [
        "maximumTemperature.getInfo()"
      ],
      "metadata": {
        "id": "hjtTqlNH5L4a"
      },
      "execution_count": null,
      "outputs": []
    },
    {
      "cell_type": "code",
      "source": [
        "u_lon = 4.8148\n",
        "u_lat = 45.7758\n",
        "u_poi = ee.Geometry.Point(u_lon, u_lat)\n",
        "scale =0.1\n",
        "tmm =  maximumTemperature.getRegion(geometry=u_poi,scale= 0.1)\n",
        "# tmm = tmm.first().get('tmmx').getInfo()\n",
        "# print(tmm)"
      ],
      "metadata": {
        "id": "3RpE5-Ph2-s3"
      },
      "execution_count": null,
      "outputs": []
    },
    {
      "cell_type": "code",
      "source": [
        "x =tmm.getInfo()"
      ],
      "metadata": {
        "id": "oINZU1yd8KaX"
      },
      "execution_count": null,
      "outputs": []
    },
    {
      "cell_type": "code",
      "source": [
        "print(x[1])"
      ],
      "metadata": {
        "colab": {
          "base_uri": "https://localhost:8080/"
        },
        "id": "IIr56mYU9tdB",
        "outputId": "53baadcf-7334-4fbb-9dc2-11ab1fd2ac1c"
      },
      "execution_count": null,
      "outputs": [
        {
          "output_type": "stream",
          "name": "stdout",
          "text": [
            "['201707', 4.814799692134287, 45.77580003005097, 1498867200000, 285, 167, 49, 1584, 510]\n"
          ]
        }
      ]
    },
    {
      "cell_type": "code",
      "source": [
        "dataset.getInfo()"
      ],
      "metadata": {
        "id": "2FxK5knT20-W"
      },
      "execution_count": null,
      "outputs": []
    },
    {
      "cell_type": "code",
      "source": [
        "img = ee.Image('IDAHO_EPSCOR/TERRACLIMATE')\n",
        "ndvi = img.normalizedDifference(['sur_refl_b02', 'sur_refl_b01'])\n",
        "#img.select(['sur_refl_b01', 'sur_refl_b04', 'sur_refl_b03']\n",
        "\n",
        "u_lon = 4.8148\n",
        "u_lat = 45.7758\n",
        "u_poi = ee.Geometry.Point(u_lon, u_lat)\n",
        "scale =1000\n",
        "# Define the rural location of interest as a point away from the city.\n",
        "r_lon = 5.175964\n",
        "r_lat = 45.574064\n",
        "r_poi = ee.Geometry.Point(r_lon, r_lat)\n",
        "\n",
        "nd = ndvi.sample(u_poi, scale).first().get('nd').getInfo()\n",
        "print('NDVI:', nd)\n",
        "nd2 = ndvi.sample(r_poi, scale).first().get('nd').getInfo()\n",
        "print('NDVI:', nd2)"
      ],
      "metadata": {
        "colab": {
          "base_uri": "https://localhost:8080/"
        },
        "id": "PFoBuJzNW4pj",
        "outputId": "687ffe86-c960-410d-9f0c-cd81be22a7f9"
      },
      "execution_count": null,
      "outputs": [
        {
          "output_type": "stream",
          "name": "stdout",
          "text": [
            "NDVI: 0.17972350120544434\n",
            "NDVI: 0.38523221015930176\n"
          ]
        }
      ]
    },
    {
      "cell_type": "code",
      "source": [
        "evi = img.expression(\n",
        "    '2.5 * (nir - red) / (nir + 6 * red - 7.5 * blue + 1)',\n",
        "    {\n",
        "        red: img.select('sur_refl_b01'),\n",
        "        nir: img.select('sur_refl_b02'),\n",
        "        blue: img.select('sur_refl_b03')\n",
        "    })"
      ],
      "metadata": {
        "id": "9zFDCkoJbgbO",
        "colab": {
          "base_uri": "https://localhost:8080/",
          "height": 235
        },
        "outputId": "0ed6edba-31ad-487f-a961-7bcda126121d"
      },
      "execution_count": null,
      "outputs": [
        {
          "output_type": "error",
          "ename": "NameError",
          "evalue": "ignored",
          "traceback": [
            "\u001b[0;31m---------------------------------------------------------------------------\u001b[0m",
            "\u001b[0;31mNameError\u001b[0m                                 Traceback (most recent call last)",
            "\u001b[0;32m<ipython-input-7-e870e243121d>\u001b[0m in \u001b[0;36m<module>\u001b[0;34m()\u001b[0m\n\u001b[1;32m      2\u001b[0m     \u001b[0;34m'2.5 * (nir - red) / (nir + 6 * red - 7.5 * blue + 1)'\u001b[0m\u001b[0;34m,\u001b[0m\u001b[0;34m\u001b[0m\u001b[0;34m\u001b[0m\u001b[0m\n\u001b[1;32m      3\u001b[0m     {\n\u001b[0;32m----> 4\u001b[0;31m         \u001b[0mred\u001b[0m\u001b[0;34m:\u001b[0m \u001b[0mimg\u001b[0m\u001b[0;34m.\u001b[0m\u001b[0mselect\u001b[0m\u001b[0;34m(\u001b[0m\u001b[0;34m'sur_refl_b01'\u001b[0m\u001b[0;34m)\u001b[0m\u001b[0;34m,\u001b[0m\u001b[0;34m\u001b[0m\u001b[0;34m\u001b[0m\u001b[0m\n\u001b[0m\u001b[1;32m      5\u001b[0m         \u001b[0mnir\u001b[0m\u001b[0;34m:\u001b[0m \u001b[0mimg\u001b[0m\u001b[0;34m.\u001b[0m\u001b[0mselect\u001b[0m\u001b[0;34m(\u001b[0m\u001b[0;34m'sur_refl_b02'\u001b[0m\u001b[0;34m)\u001b[0m\u001b[0;34m,\u001b[0m\u001b[0;34m\u001b[0m\u001b[0;34m\u001b[0m\u001b[0m\n\u001b[1;32m      6\u001b[0m         \u001b[0mblue\u001b[0m\u001b[0;34m:\u001b[0m \u001b[0mimg\u001b[0m\u001b[0;34m.\u001b[0m\u001b[0mselect\u001b[0m\u001b[0;34m(\u001b[0m\u001b[0;34m'sur_refl_b03'\u001b[0m\u001b[0;34m)\u001b[0m\u001b[0;34m\u001b[0m\u001b[0;34m\u001b[0m\u001b[0m\n",
            "\u001b[0;31mNameError\u001b[0m: name 'red' is not defined"
          ]
        }
      ]
    },
    {
      "cell_type": "code",
      "source": [
        "lonlat = img.pixelLonLat()\n",
        "xco =lonlat.select('longitude')\n",
        "yco =lonlat.select('latitude')"
      ],
      "metadata": {
        "id": "le4cqrnkZNyp"
      },
      "execution_count": null,
      "outputs": []
    },
    {
      "cell_type": "code",
      "source": [
        "print(xco.getInfo())"
      ],
      "metadata": {
        "colab": {
          "base_uri": "https://localhost:8080/"
        },
        "id": "xwteTBHToQfM",
        "outputId": "3a2786d8-a89a-40cd-d3c9-809807ae2d75"
      },
      "execution_count": null,
      "outputs": [
        {
          "output_type": "stream",
          "name": "stdout",
          "text": [
            "{'type': 'Image', 'bands': [{'id': 'longitude', 'data_type': {'type': 'PixelType', 'precision': 'double'}, 'crs': 'EPSG:4326', 'crs_transform': [1, 0, 0, 0, 1, 0]}]}\n"
          ]
        }
      ]
    },
    {
      "cell_type": "code",
      "source": [
        "yo = lonlat.arrayGet([0,0])"
      ],
      "metadata": {
        "id": "88_2w4a1kbNu"
      },
      "execution_count": null,
      "outputs": []
    },
    {
      "cell_type": "code",
      "source": [
        "print(yo.propertyNames())"
      ],
      "metadata": {
        "colab": {
          "base_uri": "https://localhost:8080/"
        },
        "id": "EqUpmQ8MmBvo",
        "outputId": "56895904-2de1-4f27-eed4-82bfab24c0e2"
      },
      "execution_count": null,
      "outputs": [
        {
          "output_type": "stream",
          "name": "stdout",
          "text": [
            "ee.List({\n",
            "  \"functionInvocationValue\": {\n",
            "    \"functionName\": \"Element.propertyNames\",\n",
            "    \"arguments\": {\n",
            "      \"element\": {\n",
            "        \"functionInvocationValue\": {\n",
            "          \"functionName\": \"Image.arrayGet\",\n",
            "          \"arguments\": {\n",
            "            \"image\": {\n",
            "              \"functionInvocationValue\": {\n",
            "                \"functionName\": \"Image.pixelLonLat\",\n",
            "                \"arguments\": {}\n",
            "              }\n",
            "            },\n",
            "            \"position\": {\n",
            "              \"functionInvocationValue\": {\n",
            "                \"functionName\": \"Image.addBands\",\n",
            "                \"arguments\": {\n",
            "                  \"dstImg\": {\n",
            "                    \"functionInvocationValue\": {\n",
            "                      \"functionName\": \"Image.constant\",\n",
            "                      \"arguments\": {\n",
            "                        \"value\": {\n",
            "                          \"constantValue\": 0\n",
            "                        }\n",
            "                      }\n",
            "                    }\n",
            "                  },\n",
            "                  \"srcImg\": {\n",
            "                    \"functionInvocationValue\": {\n",
            "                      \"functionName\": \"Image.constant\",\n",
            "                      \"arguments\": {\n",
            "                        \"value\": {\n",
            "                          \"constantValue\": 0\n",
            "                        }\n",
            "                      }\n",
            "                    }\n",
            "                  }\n",
            "                }\n",
            "              }\n",
            "            }\n",
            "          }\n",
            "        }\n",
            "      }\n",
            "    }\n",
            "  }\n",
            "})\n"
          ]
        }
      ]
    },
    {
      "cell_type": "code",
      "source": [
        "lonlat.getInfo()"
      ],
      "metadata": {
        "colab": {
          "base_uri": "https://localhost:8080/"
        },
        "id": "_Z5lY-F3arBw",
        "outputId": "ba70834b-33c4-40c8-ed56-a46b960c54ff"
      },
      "execution_count": null,
      "outputs": [
        {
          "output_type": "execute_result",
          "data": {
            "text/plain": [
              "{'bands': [{'crs': 'EPSG:4326',\n",
              "   'crs_transform': [1, 0, 0, 0, 1, 0],\n",
              "   'data_type': {'precision': 'double', 'type': 'PixelType'},\n",
              "   'id': 'longitude'},\n",
              "  {'crs': 'EPSG:4326',\n",
              "   'crs_transform': [1, 0, 0, 0, 1, 0],\n",
              "   'data_type': {'precision': 'double', 'type': 'PixelType'},\n",
              "   'id': 'latitude'}],\n",
              " 'type': 'Image'}"
            ]
          },
          "metadata": {},
          "execution_count": 109
        }
      ]
    },
    {
      "cell_type": "code",
      "source": [
        "lonlat.getInfo()"
      ],
      "metadata": {
        "colab": {
          "base_uri": "https://localhost:8080/"
        },
        "id": "WNCFCSzwbhX5",
        "outputId": "299f0194-b2e2-4610-ccee-87be83eff4e2"
      },
      "execution_count": null,
      "outputs": [
        {
          "output_type": "execute_result",
          "data": {
            "text/plain": [
              "{'bands': [{'crs': 'EPSG:4326',\n",
              "   'crs_transform': [1, 0, 0, 0, 1, 0],\n",
              "   'data_type': {'precision': 'double', 'type': 'PixelType'},\n",
              "   'id': 'longitude'},\n",
              "  {'crs': 'EPSG:4326',\n",
              "   'crs_transform': [1, 0, 0, 0, 1, 0],\n",
              "   'data_type': {'precision': 'double', 'type': 'PixelType'},\n",
              "   'id': 'latitude'}],\n",
              " 'type': 'Image'}"
            ]
          },
          "metadata": {},
          "execution_count": 60
        }
      ]
    },
    {
      "cell_type": "code",
      "source": [
        "xy.getInfo()"
      ],
      "metadata": {
        "colab": {
          "base_uri": "https://localhost:8080/"
        },
        "id": "kkSJOUO8hwM6",
        "outputId": "b82a5b09-1a10-47f6-cdd4-dc2abc595e68"
      },
      "execution_count": null,
      "outputs": [
        {
          "output_type": "execute_result",
          "data": {
            "text/plain": [
              "{'bands': [{'crs': 'EPSG:4326',\n",
              "   'crs_transform': [1, 0, 0, 0, 1, 0],\n",
              "   'data_type': {'precision': 'double', 'type': 'PixelType'},\n",
              "   'id': 'longitude'},\n",
              "  {'crs': 'EPSG:4326',\n",
              "   'crs_transform': [1, 0, 0, 0, 1, 0],\n",
              "   'data_type': {'precision': 'double', 'type': 'PixelType'},\n",
              "   'id': 'latitude'}],\n",
              " 'type': 'Image'}"
            ]
          },
          "metadata": {},
          "execution_count": 80
        }
      ]
    },
    {
      "cell_type": "code",
      "source": [
        "longi = lonlat.get('id').getInfo()\n",
        "print(longi)"
      ],
      "metadata": {
        "colab": {
          "base_uri": "https://localhost:8080/"
        },
        "id": "tA4tvmK2cmkA",
        "outputId": "6090bd22-b6ad-4275-c4ba-802c36b6cd8e"
      },
      "execution_count": null,
      "outputs": [
        {
          "output_type": "stream",
          "name": "stdout",
          "text": [
            "None\n"
          ]
        }
      ]
    },
    {
      "cell_type": "code",
      "source": [
        "arr = xy.toArray()"
      ],
      "metadata": {
        "colab": {
          "base_uri": "https://localhost:8080/",
          "height": 166
        },
        "id": "BeTkuP0HgdDK",
        "outputId": "8e1d46dd-17a9-45c1-b560-8fa455c9f68d"
      },
      "execution_count": null,
      "outputs": [
        {
          "output_type": "error",
          "ename": "AttributeError",
          "evalue": "ignored",
          "traceback": [
            "\u001b[0;31m---------------------------------------------------------------------------\u001b[0m",
            "\u001b[0;31mAttributeError\u001b[0m                            Traceback (most recent call last)",
            "\u001b[0;32m<ipython-input-81-8f2429464a94>\u001b[0m in \u001b[0;36m<module>\u001b[0;34m()\u001b[0m\n\u001b[0;32m----> 1\u001b[0;31m \u001b[0marr\u001b[0m \u001b[0;34m=\u001b[0m \u001b[0mxy\u001b[0m\u001b[0;34m.\u001b[0m\u001b[0mget\u001b[0m\u001b[0;34m(\u001b[0m\u001b[0;34m'longitude'\u001b[0m\u001b[0;34m)\u001b[0m\u001b[0;34m.\u001b[0m\u001b[0mtoArray\u001b[0m\u001b[0;34m(\u001b[0m\u001b[0;34m)\u001b[0m\u001b[0;34m\u001b[0m\u001b[0;34m\u001b[0m\u001b[0m\n\u001b[0m",
            "\u001b[0;31mAttributeError\u001b[0m: 'ComputedObject' object has no attribute 'toArray'"
          ]
        }
      ]
    },
    {
      "cell_type": "code",
      "source": [
        "print(arr.get('array').getInfo())"
      ],
      "metadata": {
        "colab": {
          "base_uri": "https://localhost:8080/"
        },
        "id": "0LNx5p_Lh_VT",
        "outputId": "1315d6c9-154c-4be8-bf47-03eff5076713"
      },
      "execution_count": null,
      "outputs": [
        {
          "output_type": "stream",
          "name": "stdout",
          "text": [
            "None\n"
          ]
        }
      ]
    },
    {
      "cell_type": "code",
      "source": [
        "\\"
      ],
      "metadata": {
        "colab": {
          "base_uri": "https://localhost:8080/"
        },
        "id": "CyT3r8DAiLyx",
        "outputId": "cde4d0c8-93f0-4683-9a38-e834dcb0a286"
      },
      "execution_count": null,
      "outputs": [
        {
          "output_type": "stream",
          "name": "stdout",
          "text": [
            "None\n"
          ]
        }
      ]
    },
    {
      "cell_type": "code",
      "source": [
        "print(arr.get('longitude').getInfo())"
      ],
      "metadata": {
        "colab": {
          "base_uri": "https://localhost:8080/"
        },
        "id": "Evil977agkix",
        "outputId": "55f68588-79f1-4888-fb17-9275e095fa20"
      },
      "execution_count": null,
      "outputs": [
        {
          "output_type": "stream",
          "name": "stdout",
          "text": [
            "None\n"
          ]
        }
      ]
    },
    {
      "cell_type": "code",
      "source": [
        "longi = lonlat.getArray('longitude')"
      ],
      "metadata": {
        "id": "Cy2H2e-Vb72_"
      },
      "execution_count": null,
      "outputs": []
    },
    {
      "cell_type": "code",
      "source": [
        "print(longi)"
      ],
      "metadata": {
        "colab": {
          "base_uri": "https://localhost:8080/"
        },
        "id": "DCAyH9M6cF5w",
        "outputId": "58004384-0ead-4424-8615-3357abccaa92"
      },
      "execution_count": null,
      "outputs": [
        {
          "output_type": "stream",
          "name": "stdout",
          "text": [
            "ee.Array({\n",
            "  \"functionInvocationValue\": {\n",
            "    \"functionName\": \"Array\",\n",
            "    \"arguments\": {\n",
            "      \"values\": {\n",
            "        \"functionInvocationValue\": {\n",
            "          \"functionName\": \"Element.getArray\",\n",
            "          \"arguments\": {\n",
            "            \"object\": {\n",
            "              \"functionInvocationValue\": {\n",
            "                \"functionName\": \"Image.pixelLonLat\",\n",
            "                \"arguments\": {}\n",
            "              }\n",
            "            },\n",
            "            \"property\": {\n",
            "              \"constantValue\": \"longitude\"\n",
            "            }\n",
            "          }\n",
            "        }\n",
            "      }\n",
            "    }\n",
            "  }\n",
            "})\n"
          ]
        }
      ]
    }
  ]
}